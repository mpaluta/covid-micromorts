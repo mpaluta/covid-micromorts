{
 "cells": [
  {
   "cell_type": "markdown",
   "metadata": {},
   "source": [
    "# King County COVID micromorts"
   ]
  },
  {
   "cell_type": "markdown",
   "metadata": {},
   "source": [
    "COVID cases are surging in King County as winter arrives, and with them anxiety levels in the community. I wanted to quantify just how much personal risk of mortality I have at these infection levels. There are also risks of long-term damage and risks of transmission to others, so this is just one piece of the puzzle toward personal decision-making, but I think it is an important piece nonetheless.\n",
    "\n",
    "One way to assess risk of death of an activity or environment is by calculating the micromorts associated with it. A micromort is a one in a million chance of death. Sounds kind of high actually, but more on that later.\n",
    "\n",
    "To estimate the micromorts associated with a day of living in King County, I want to estimate the number of deaths per million people per day. This will estimate the latent risk at the population level. To do this I take the number of confirmed daily cases per million people in King County, multiply by the CDC estimated ratio of total to confirmed cases for WA state, and multiply by the case fatality ratio (CFR) for 20 to 29-year-olds (because I'm biased toward me).\n",
    "\n",
    "I believe this will yield a conservative estimate for me, as I subjectively believe that I have less exposure than most King County residents. I work from home, live alone, and mostly see a few friends outside. My transmission vectors compared to the average person are likely much more limited, in part by good fortune and in part by choice."
   ]
  },
  {
   "cell_type": "code",
   "execution_count": 1,
   "metadata": {},
   "outputs": [],
   "source": [
    "# inputs\n",
    "daily_cases = 493               # King County confirmed cases on Nov 5, cherry-picked the highest day thus far\n",
    "ratio_total_confirmed_cases = 7 # CDC reports total cases ~= 7 * confirmed cases in WA state\n",
    "population = 2253000            # King county population\n",
    "cfr = .001                      # CFR for 20-29 year old"
   ]
  },
  {
   "cell_type": "code",
   "execution_count": 2,
   "metadata": {},
   "outputs": [
    {
     "data": {
      "text/plain": [
       "1.53"
      ]
     },
     "execution_count": 2,
     "metadata": {},
     "output_type": "execute_result"
    }
   ],
   "source": [
    "# calculate micromorts\n",
    "round((daily_cases * 1000000 / population) * ratio_total_confirmed_cases * cfr, 2)"
   ]
  },
  {
   "cell_type": "markdown",
   "metadata": {},
   "source": [
    "I estimate roughly 1.5 micromorts associated with my living in King County during this latest surge, or a 1.5 in a million chance of death each day. As I mentioned above, I believe this is a conservative estimate for me, but what do I make of this number -- is it high or low?\n",
    "\n",
    "The nice thing about using micromorts is I can compare to other tabulated values. 1.5 micromorts is about twice as risky as skiing (0.7) and half as risky as rock climbing (3.0), both activities would happily participate in daily without second thought to the risk of life. That being said, those two activities provide me a great amount of joy, quite a bit more than living in King County during a pandemic, so I'm not getting the same bang for my buck on my COVID micromorts and would shed them if there was an easy way. Still, it puts the risk in perspective.\n",
    "\n",
    "The second way I evaluate this result is to compare to the baseline level of micromorts of daily life. The CDC estimates 22 micromorts as a baseline mortality risk living in the US. So there is a 22 in 1,000,000 chance of kicking the bucket each day, at the US population level. Micromorts are additive, so my baseline chance of death plus the COVID increase yields 23.5 micromorts. In other words, living in these times is about 7% riskier than normal times, as measured by probability of death.\n",
    "\n",
    "These numbers don't knock me out of my chair, but of course as mentioned above, there are other reasons to take precautions. This estimate does not include risk of long-term damages, or the short-term unpleasantness of the disease, and it does not include externalities of being a transmission vector for friends, family, or the community."
   ]
  },
  {
   "cell_type": "markdown",
   "metadata": {},
   "source": [
    "## sources"
   ]
  },
  {
   "cell_type": "code",
   "execution_count": 3,
   "metadata": {},
   "outputs": [],
   "source": [
    "#TODO"
   ]
  }
 ],
 "metadata": {
  "kernelspec": {
   "display_name": "Python 3",
   "language": "python",
   "name": "python3"
  },
  "language_info": {
   "codemirror_mode": {
    "name": "ipython",
    "version": 3
   },
   "file_extension": ".py",
   "mimetype": "text/x-python",
   "name": "python",
   "nbconvert_exporter": "python",
   "pygments_lexer": "ipython3",
   "version": "3.7.3"
  }
 },
 "nbformat": 4,
 "nbformat_minor": 2
}
